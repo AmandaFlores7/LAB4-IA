{
 "cells": [
  {
   "attachments": {},
   "cell_type": "markdown",
   "metadata": {},
   "source": [
    "# Importaciones y Funciones"
   ]
  },
  {
   "cell_type": "code",
   "execution_count": 143,
   "metadata": {},
   "outputs": [],
   "source": [
    "import pandas as pd\n",
    "import numpy as np\n",
    "import matplotlib.pyplot as plt\n",
    "import seaborn as sns\n",
    "import tensorflow as tf\n",
    "from tensorflow import keras\n",
    "from keras import models, layers\n",
    "from sklearn.preprocessing import StandardScaler\n",
    "from sklearn.metrics import mean_absolute_error, mean_squared_error, accuracy_score\n",
    "from sklearn.model_selection import KFold"
   ]
  },
  {
   "cell_type": "code",
   "execution_count": 144,
   "metadata": {},
   "outputs": [],
   "source": [
    "# Dicciónario para convertir los valores a categorías\n",
    "LABELS = {0: 'LowQuality', 1: 'Average', 2: 'HighQuality'}\n",
    "BINS = [0, 4.5, 5.5, 10]"
   ]
  },
  {
   "cell_type": "code",
   "execution_count": 145,
   "metadata": {},
   "outputs": [],
   "source": [
    "def cargar_datos(dataset):\n",
    "    df = pd.read_csv(dataset, sep=';')\n",
    "    df['quality'] = pd.cut(df['quality'], bins=BINS, labels=[0, 1, 2])\n",
    "    return df"
   ]
  },
  {
   "cell_type": "code",
   "execution_count": 146,
   "metadata": {},
   "outputs": [],
   "source": [
    "def dividir_x_y(df):\n",
    "    x = df.drop('quality', axis=1)\n",
    "    y = df['quality']\n",
    "    return x, y"
   ]
  },
  {
   "cell_type": "code",
   "execution_count": 147,
   "metadata": {},
   "outputs": [],
   "source": [
    "def normalizar(x, y):\n",
    "    scaler = StandardScaler()\n",
    "    x_scaled = scaler.fit_transform(x)\n",
    "    y_onehot = keras.utils.to_categorical(y)\n",
    "    return x_scaled, y_onehot"
   ]
  },
  {
   "cell_type": "code",
   "execution_count": 148,
   "metadata": {},
   "outputs": [],
   "source": [
    "def clasificacion(X_scaled, y_onehot, fun_act):\n",
    "    activation_fn = fun_act\n",
    "\n",
    "    # Crear el modelo de clasificación\n",
    "    classification_model = tf.keras.Sequential([\n",
    "        tf.keras.layers.Dense(64, activation=activation_fn, input_shape=(X_scaled.shape[1],)),\n",
    "        tf.keras.layers.Dense(32, activation=activation_fn),\n",
    "        tf.keras.layers.Dense(3, activation='softmax')\n",
    "    ])\n",
    "\n",
    "    # Compilar el modelo de clasificación\n",
    "    classification_model.compile(optimizer='adam',\n",
    "                                loss='categorical_crossentropy',\n",
    "                                metrics=['accuracy'])\n",
    "\n",
    "    # K-fold cross validation para el modelo de clasificación\n",
    "    k = 5\n",
    "    kf = KFold(n_splits=k, shuffle=True)\n",
    "\n",
    "    acc = []\n",
    "    loss = []\n",
    "\n",
    "    for train_index, val_index in kf.split(X_scaled):\n",
    "        X_train, X_val = X_scaled[train_index], X_scaled[val_index]\n",
    "        y_train, y_val = y_onehot[train_index], y_onehot[val_index]\n",
    "        \n",
    "        classification_model.fit(X_train, y_train, epochs=10, batch_size=32, verbose=0) # type: ignore\n",
    "        \n",
    "        val_predictions = classification_model.predict(X_val)\n",
    "        val_predictions = np.argmax(val_predictions, axis=1)\n",
    "        val_true_labels = np.argmax(y_val, axis=1)\n",
    "        \n",
    "        acc.append(accuracy_score(val_true_labels, val_predictions))\n",
    "        loss.append(classification_model.evaluate(X_val, y_val, verbose=0)[0]) # type: ignore\n",
    "        \n",
    "    print('\\nPrecision con función de activación ',fun_act,': ', np.mean(acc))\n",
    "    print('Costo de perdida con función de activación ',fun_act,': ', np.mean(loss))\n",
    "    return np.mean(acc), np.mean(loss)"
   ]
  },
  {
   "cell_type": "code",
   "execution_count": 149,
   "metadata": {},
   "outputs": [],
   "source": [
    "def regresion(X_scaled, y, fun_act):\n",
    "    activation_fn = fun_act\n",
    "\n",
    "    # Crear el modelo de regresión\n",
    "    regression_model = tf.keras.Sequential([\n",
    "        tf.keras.layers.Dense(64, activation=activation_fn, input_shape=(X_scaled.shape[1],)),\n",
    "        tf.keras.layers.Dense(32, activation=activation_fn),\n",
    "        tf.keras.layers.Dense(1)\n",
    "    ])\n",
    "\n",
    "    # Compilar el modelo de regresión\n",
    "    regression_model.compile(optimizer='adam', loss='mse', metrics=['mae', 'mse'])\n",
    "\n",
    "    # K-fold cross validation para el modelo de regresión\n",
    "    k = 5\n",
    "    kf = KFold(n_splits=k, shuffle=True)\n",
    "\n",
    "    mse_scores = []\n",
    "    mae_scores = []\n",
    "\n",
    "    for train_index, val_index in kf.split(X_scaled):\n",
    "        X_train, X_val = X_scaled[train_index], X_scaled[val_index]\n",
    "        y_train, y_val = y[train_index], y[val_index]\n",
    "        \n",
    "        regression_model.fit(X_train, y_train, epochs=10, batch_size=32, verbose=0)\n",
    "        \n",
    "        val_predictions = regression_model.predict(X_val).flatten()\n",
    "        mse = mean_squared_error(y_val, val_predictions)\n",
    "        mae = mean_absolute_error(y_val, val_predictions)\n",
    "        mse_scores.append(mse)\n",
    "        mae_scores.append(mae)\n",
    "\n",
    "    print('\\nMSE con función de activación ',fun_act,': ', np.mean(mse_scores))\n",
    "    print('MAE con función de activación ',fun_act,': ', np.mean(mae_scores))\n",
    "    return np.mean(mse_scores), np.mean(mae_scores)"
   ]
  },
  {
   "cell_type": "code",
   "execution_count": 150,
   "metadata": {},
   "outputs": [],
   "source": [
    "def tabla_comparative(sigmoide, tanh, val1, val2):\n",
    "    return pd.DataFrame(\n",
    "        {\n",
    "            'Función de activación': [val1, val2],\n",
    "            'Sigmoid': [sigmoide[0], sigmoide[1]],\n",
    "            'Tanh': [tanh[0], tanh[1]]\n",
    "        }\n",
    "    )"
   ]
  },
  {
   "attachments": {},
   "cell_type": "markdown",
   "metadata": {},
   "source": [
    "# Vino Blanco"
   ]
  },
  {
   "cell_type": "code",
   "execution_count": 151,
   "metadata": {},
   "outputs": [],
   "source": [
    "vino_blanco = cargar_datos('Data/winequality-white.csv')"
   ]
  },
  {
   "cell_type": "code",
   "execution_count": 152,
   "metadata": {},
   "outputs": [],
   "source": [
    "x, y = dividir_x_y(vino_blanco)\n",
    "x_scaled, y_onehot = normalizar(x, y)"
   ]
  },
  {
   "attachments": {},
   "cell_type": "markdown",
   "metadata": {},
   "source": [
    "## Modelo de clasificacion usando Red Neuronal"
   ]
  },
  {
   "cell_type": "code",
   "execution_count": 153,
   "metadata": {},
   "outputs": [
    {
     "name": "stdout",
     "output_type": "stream",
     "text": [
      "31/31 [==============================] - 0s 2ms/step\n",
      "31/31 [==============================] - 0s 1ms/step\n",
      "31/31 [==============================] - 0s 2ms/step\n",
      "31/31 [==============================] - 0s 1ms/step\n",
      "31/31 [==============================] - 0s 2ms/step\n",
      "\n",
      "Precision con función de activación  sigmoid :  0.7407175168330866\n",
      "Costo de perdida con función de activación  sigmoid :  0.5927406549453735\n"
     ]
    }
   ],
   "source": [
    "clas_sigmoide = clasificacion(x_scaled, y_onehot, 'sigmoid')"
   ]
  },
  {
   "cell_type": "code",
   "execution_count": 154,
   "metadata": {},
   "outputs": [
    {
     "name": "stdout",
     "output_type": "stream",
     "text": [
      "31/31 [==============================] - 0s 2ms/step\n",
      "31/31 [==============================] - 0s 2ms/step\n",
      "31/31 [==============================] - 0s 2ms/step\n",
      "31/31 [==============================] - 0s 1ms/step\n",
      "31/31 [==============================] - 0s 2ms/step\n",
      "\n",
      "Precision con función de activación  tanh :  0.7615350941193637\n",
      "Costo de perdida con función de activación  tanh :  0.5459101915359497\n"
     ]
    }
   ],
   "source": [
    "clas_tanh = clasificacion(x_scaled, y_onehot, 'tanh')"
   ]
  },
  {
   "attachments": {},
   "cell_type": "markdown",
   "metadata": {},
   "source": [
    "## Modelo de Regresion usando Red Neuronal"
   ]
  },
  {
   "cell_type": "code",
   "execution_count": 155,
   "metadata": {},
   "outputs": [
    {
     "name": "stdout",
     "output_type": "stream",
     "text": [
      "31/31 [==============================] - 0s 2ms/step\n",
      "31/31 [==============================] - 0s 2ms/step\n",
      "31/31 [==============================] - 0s 2ms/step\n",
      "31/31 [==============================] - 0s 2ms/step\n",
      "31/31 [==============================] - 0s 2ms/step\n",
      "\n",
      "MSE con función de activación  sigmoid :  0.22416219583833213\n",
      "MAE con función de activación  sigmoid :  0.3681541900716548\n"
     ]
    }
   ],
   "source": [
    "reg_sigmoide = regresion(x_scaled, y, 'sigmoid')"
   ]
  },
  {
   "cell_type": "code",
   "execution_count": 156,
   "metadata": {},
   "outputs": [
    {
     "name": "stdout",
     "output_type": "stream",
     "text": [
      "31/31 [==============================] - 0s 1ms/step\n",
      "31/31 [==============================] - 0s 2ms/step\n",
      "31/31 [==============================] - 0s 2ms/step\n",
      "31/31 [==============================] - 0s 2ms/step\n",
      "31/31 [==============================] - 0s 2ms/step\n",
      "\n",
      "MSE con función de activación  tanh :  0.2155679488852804\n",
      "MAE con función de activación  tanh :  0.3518212016628455\n"
     ]
    }
   ],
   "source": [
    "reg_tanh = regresion(x_scaled, y, 'tanh')"
   ]
  },
  {
   "attachments": {},
   "cell_type": "markdown",
   "metadata": {},
   "source": [
    "## Análisis de los Resultados"
   ]
  },
  {
   "cell_type": "markdown",
   "metadata": {},
   "source": [
    "### Modelo de Classification"
   ]
  },
  {
   "cell_type": "code",
   "execution_count": 157,
   "metadata": {},
   "outputs": [
    {
     "data": {
      "text/html": [
       "<div>\n",
       "<style scoped>\n",
       "    .dataframe tbody tr th:only-of-type {\n",
       "        vertical-align: middle;\n",
       "    }\n",
       "\n",
       "    .dataframe tbody tr th {\n",
       "        vertical-align: top;\n",
       "    }\n",
       "\n",
       "    .dataframe thead th {\n",
       "        text-align: right;\n",
       "    }\n",
       "</style>\n",
       "<table border=\"1\" class=\"dataframe\">\n",
       "  <thead>\n",
       "    <tr style=\"text-align: right;\">\n",
       "      <th></th>\n",
       "      <th>Función de activación</th>\n",
       "      <th>Sigmoid</th>\n",
       "      <th>Tanh</th>\n",
       "    </tr>\n",
       "  </thead>\n",
       "  <tbody>\n",
       "    <tr>\n",
       "      <th>0</th>\n",
       "      <td>Precisión</td>\n",
       "      <td>0.740718</td>\n",
       "      <td>0.761535</td>\n",
       "    </tr>\n",
       "    <tr>\n",
       "      <th>1</th>\n",
       "      <td>Costo de perdida</td>\n",
       "      <td>0.592741</td>\n",
       "      <td>0.545910</td>\n",
       "    </tr>\n",
       "  </tbody>\n",
       "</table>\n",
       "</div>"
      ],
      "text/plain": [
       "  Función de activación   Sigmoid      Tanh\n",
       "0             Precisión  0.740718  0.761535\n",
       "1      Costo de perdida  0.592741  0.545910"
      ]
     },
     "execution_count": 157,
     "metadata": {},
     "output_type": "execute_result"
    }
   ],
   "source": [
    "tabla_comparative(clas_sigmoide, clas_tanh, 'Precisión', 'Costo de perdida')"
   ]
  },
  {
   "attachments": {},
   "cell_type": "markdown",
   "metadata": {},
   "source": [
    "### Modelo de Regression"
   ]
  },
  {
   "cell_type": "code",
   "execution_count": 158,
   "metadata": {},
   "outputs": [
    {
     "data": {
      "text/html": [
       "<div>\n",
       "<style scoped>\n",
       "    .dataframe tbody tr th:only-of-type {\n",
       "        vertical-align: middle;\n",
       "    }\n",
       "\n",
       "    .dataframe tbody tr th {\n",
       "        vertical-align: top;\n",
       "    }\n",
       "\n",
       "    .dataframe thead th {\n",
       "        text-align: right;\n",
       "    }\n",
       "</style>\n",
       "<table border=\"1\" class=\"dataframe\">\n",
       "  <thead>\n",
       "    <tr style=\"text-align: right;\">\n",
       "      <th></th>\n",
       "      <th>Función de activación</th>\n",
       "      <th>Sigmoid</th>\n",
       "      <th>Tanh</th>\n",
       "    </tr>\n",
       "  </thead>\n",
       "  <tbody>\n",
       "    <tr>\n",
       "      <th>0</th>\n",
       "      <td>MSE</td>\n",
       "      <td>0.224162</td>\n",
       "      <td>0.215568</td>\n",
       "    </tr>\n",
       "    <tr>\n",
       "      <th>1</th>\n",
       "      <td>MAE</td>\n",
       "      <td>0.368154</td>\n",
       "      <td>0.351821</td>\n",
       "    </tr>\n",
       "  </tbody>\n",
       "</table>\n",
       "</div>"
      ],
      "text/plain": [
       "  Función de activación   Sigmoid      Tanh\n",
       "0                   MSE  0.224162  0.215568\n",
       "1                   MAE  0.368154  0.351821"
      ]
     },
     "execution_count": 158,
     "metadata": {},
     "output_type": "execute_result"
    }
   ],
   "source": [
    "tabla_comparative(reg_sigmoide, reg_tanh, 'MSE', 'MAE')"
   ]
  },
  {
   "attachments": {},
   "cell_type": "markdown",
   "metadata": {},
   "source": [
    "# Vino Tinto"
   ]
  },
  {
   "cell_type": "code",
   "execution_count": 159,
   "metadata": {},
   "outputs": [],
   "source": [
    "vino_tinto = cargar_datos('Data/winequality-red.csv')"
   ]
  },
  {
   "cell_type": "code",
   "execution_count": 160,
   "metadata": {},
   "outputs": [],
   "source": [
    "x, y = dividir_x_y(vino_tinto)\n",
    "x_scaled, y_onehot = normalizar(x, y)"
   ]
  },
  {
   "cell_type": "markdown",
   "metadata": {},
   "source": [
    "## Modelo de clasificacion usando Red Neuronal"
   ]
  },
  {
   "cell_type": "code",
   "execution_count": 161,
   "metadata": {},
   "outputs": [
    {
     "name": "stdout",
     "output_type": "stream",
     "text": [
      "10/10 [==============================] - 0s 1ms/step\n",
      "10/10 [==============================] - 0s 2ms/step\n",
      "10/10 [==============================] - 0s 2ms/step\n",
      "10/10 [==============================] - 0s 2ms/step\n",
      "10/10 [==============================] - 0s 1ms/step\n",
      "\n",
      "Precision con función de activación  sigmoid :  0.7179408307210031\n",
      "Costo de perdida con función de activación  sigmoid :  0.6413689255714417\n"
     ]
    }
   ],
   "source": [
    "clas_sigmoide = clasificacion(x_scaled, y_onehot, 'sigmoid')"
   ]
  },
  {
   "cell_type": "code",
   "execution_count": 162,
   "metadata": {},
   "outputs": [
    {
     "name": "stdout",
     "output_type": "stream",
     "text": [
      "10/10 [==============================] - 0s 2ms/step\n",
      "10/10 [==============================] - 0s 3ms/step\n",
      "10/10 [==============================] - 0s 1ms/step\n",
      "10/10 [==============================] - 0s 1ms/step\n",
      "10/10 [==============================] - 0s 1ms/step\n",
      "\n",
      "Precision con función de activación  tanh :  0.7367202194357366\n",
      "Costo de perdida con función de activación  tanh :  0.5920578002929687\n"
     ]
    }
   ],
   "source": [
    "clas_tanh = clasificacion(x_scaled, y_onehot, 'tanh')"
   ]
  },
  {
   "cell_type": "markdown",
   "metadata": {},
   "source": [
    "## Modelo de Regresion usando Red Neuronal"
   ]
  },
  {
   "cell_type": "code",
   "execution_count": 163,
   "metadata": {},
   "outputs": [
    {
     "name": "stdout",
     "output_type": "stream",
     "text": [
      "10/10 [==============================] - 0s 1ms/step\n",
      "10/10 [==============================] - 0s 2ms/step\n",
      "10/10 [==============================] - 0s 2ms/step\n",
      "10/10 [==============================] - 0s 1ms/step\n",
      "10/10 [==============================] - 0s 1ms/step\n",
      "\n",
      "MSE con función de activación  sigmoid :  0.2409206494804303\n",
      "MAE con función de activación  sigmoid :  0.38993270991422635\n"
     ]
    }
   ],
   "source": [
    "reg_sigmoide = regresion(x_scaled, y, 'sigmoid')"
   ]
  },
  {
   "cell_type": "code",
   "execution_count": 164,
   "metadata": {},
   "outputs": [
    {
     "name": "stdout",
     "output_type": "stream",
     "text": [
      "10/10 [==============================] - 0s 1ms/step\n",
      "10/10 [==============================] - 0s 2ms/step\n",
      "10/10 [==============================] - 0s 1ms/step\n",
      "10/10 [==============================] - 0s 1ms/step\n",
      "10/10 [==============================] - 0s 1ms/step\n",
      "\n",
      "MSE con función de activación  tanh :  0.22325922474196708\n",
      "MAE con función de activación  tanh :  0.3649788224007234\n"
     ]
    }
   ],
   "source": [
    "reg_tanh = regresion(x_scaled, y, 'tanh')"
   ]
  },
  {
   "cell_type": "markdown",
   "metadata": {},
   "source": [
    "## Análisis de los Resultados"
   ]
  },
  {
   "attachments": {},
   "cell_type": "markdown",
   "metadata": {},
   "source": [
    "### Modelo de Classification"
   ]
  },
  {
   "cell_type": "code",
   "execution_count": 165,
   "metadata": {},
   "outputs": [
    {
     "data": {
      "text/html": [
       "<div>\n",
       "<style scoped>\n",
       "    .dataframe tbody tr th:only-of-type {\n",
       "        vertical-align: middle;\n",
       "    }\n",
       "\n",
       "    .dataframe tbody tr th {\n",
       "        vertical-align: top;\n",
       "    }\n",
       "\n",
       "    .dataframe thead th {\n",
       "        text-align: right;\n",
       "    }\n",
       "</style>\n",
       "<table border=\"1\" class=\"dataframe\">\n",
       "  <thead>\n",
       "    <tr style=\"text-align: right;\">\n",
       "      <th></th>\n",
       "      <th>Función de activación</th>\n",
       "      <th>Sigmoid</th>\n",
       "      <th>Tanh</th>\n",
       "    </tr>\n",
       "  </thead>\n",
       "  <tbody>\n",
       "    <tr>\n",
       "      <th>0</th>\n",
       "      <td>Precisión</td>\n",
       "      <td>0.717941</td>\n",
       "      <td>0.736720</td>\n",
       "    </tr>\n",
       "    <tr>\n",
       "      <th>1</th>\n",
       "      <td>Costo de perdida</td>\n",
       "      <td>0.641369</td>\n",
       "      <td>0.592058</td>\n",
       "    </tr>\n",
       "  </tbody>\n",
       "</table>\n",
       "</div>"
      ],
      "text/plain": [
       "  Función de activación   Sigmoid      Tanh\n",
       "0             Precisión  0.717941  0.736720\n",
       "1      Costo de perdida  0.641369  0.592058"
      ]
     },
     "execution_count": 165,
     "metadata": {},
     "output_type": "execute_result"
    }
   ],
   "source": [
    "tabla_comparative(clas_sigmoide, clas_tanh, 'Precisión', 'Costo de perdida')"
   ]
  },
  {
   "attachments": {},
   "cell_type": "markdown",
   "metadata": {},
   "source": [
    "### Modelo de Regression"
   ]
  },
  {
   "cell_type": "code",
   "execution_count": 166,
   "metadata": {},
   "outputs": [
    {
     "data": {
      "text/html": [
       "<div>\n",
       "<style scoped>\n",
       "    .dataframe tbody tr th:only-of-type {\n",
       "        vertical-align: middle;\n",
       "    }\n",
       "\n",
       "    .dataframe tbody tr th {\n",
       "        vertical-align: top;\n",
       "    }\n",
       "\n",
       "    .dataframe thead th {\n",
       "        text-align: right;\n",
       "    }\n",
       "</style>\n",
       "<table border=\"1\" class=\"dataframe\">\n",
       "  <thead>\n",
       "    <tr style=\"text-align: right;\">\n",
       "      <th></th>\n",
       "      <th>Función de activación</th>\n",
       "      <th>Sigmoid</th>\n",
       "      <th>Tanh</th>\n",
       "    </tr>\n",
       "  </thead>\n",
       "  <tbody>\n",
       "    <tr>\n",
       "      <th>0</th>\n",
       "      <td>MSE</td>\n",
       "      <td>0.240921</td>\n",
       "      <td>0.223259</td>\n",
       "    </tr>\n",
       "    <tr>\n",
       "      <th>1</th>\n",
       "      <td>MAE</td>\n",
       "      <td>0.389933</td>\n",
       "      <td>0.364979</td>\n",
       "    </tr>\n",
       "  </tbody>\n",
       "</table>\n",
       "</div>"
      ],
      "text/plain": [
       "  Función de activación   Sigmoid      Tanh\n",
       "0                   MSE  0.240921  0.223259\n",
       "1                   MAE  0.389933  0.364979"
      ]
     },
     "execution_count": 166,
     "metadata": {},
     "output_type": "execute_result"
    }
   ],
   "source": [
    "tabla_comparative(reg_sigmoide, reg_tanh, 'MSE', 'MAE')"
   ]
  }
 ],
 "metadata": {
  "kernelspec": {
   "display_name": "py_3_10",
   "language": "python",
   "name": "python3"
  },
  "language_info": {
   "codemirror_mode": {
    "name": "ipython",
    "version": 3
   },
   "file_extension": ".py",
   "mimetype": "text/x-python",
   "name": "python",
   "nbconvert_exporter": "python",
   "pygments_lexer": "ipython3",
   "version": "3.10.11"
  },
  "orig_nbformat": 4
 },
 "nbformat": 4,
 "nbformat_minor": 2
}
